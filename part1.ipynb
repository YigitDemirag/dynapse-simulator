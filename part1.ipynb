{
 "cells": [
  {
   "cell_type": "markdown",
   "metadata": {},
   "source": [
    "# A Tiny Spiking Neural Network on Dynap-SE1 Simulator\n",
    "\n",
    "By [Yigit Demirag](https://www.ini.uzh.ch/fw1/modules/ini/ini.php/people/yigit)\n",
    "\n",
    "In this exercise we will learn and simulate the silicon neuron and synapse models of a neuromorphic processor, DYNAP-SE1. Specifically, we will first show how a simple Differential Pair Integrator (DPI) circuit is used in Dynap-SE1 to implement some fundamental dynamics of silicon synapse and Adaptive Exponential Integrate-and-Fire (AdExpIF) neurons. Then we will learn how we set up neuron and synapse parameters, form networks, and monitor the electrical signals at various stages in the chip. Finally, we will observe the adaptive behavior of the neuron.\n",
    "\n",
    "\n",
    "## Part 1: I/O Spikes\n",
    "---\n",
    "\n",
    "#### Differential Pair Integrator (DPI)\n",
    "\n",
    "The computational principles of the brain are vastly different from conventional computers. Rather than using Boolean logic, clocked operation, and distinct memory and processing units, the biological brain works at massively parallel, fault-tolerant, asynchronous manner. In neuromorphic engineering, we aim to design compact, energy-efficient computational devices that directly _emulate_ the style of computation of the brain with **the physics of the silicon.** To achieve that, we use analog Complementary Metal-Oxide-Semiconductor (CMOS) technology to implement neural and synaptic circuits and integrate into Very Large Scale Integration (VLSI) devices. In these architectures, time represents itself (no clock) - neurons process the incoming spikes as they arrive and produce output spikes in real-time. Consequently, to process real-world sensory signals efficiently, neuromorphic systems must use circuits with biologically plausible time constants that match environment statistics ($\\sim 10-100$ ms). \n",
    "\n",
    "<img src=\"img/DPI_advanced.png\" alt=\"DPI circuit.\" style=\"width: 450px;\">\n",
    "\n",
    "DPI circuit shown above is the fundamental building block to implement silicon neurons and synapses with tunable time-constants. It is totally fine if you do not understand how it works from the circuit diagram right away. The essence is that it has the response dynamics (the relation of input current $I_{i n}$ and output current $I_{out}$) of\n",
    "\n",
    "$$\\tau \\frac{d}{d t} I_{o u t}+I_{o u t}=\\frac{I_{g}}{I_{\\tau}} I_{i n},$$\n",
    "\n",
    "where $\\tau \\triangleq C U_{T} / \\kappa I_{\\tau}$ ($C$ the capacitor, $U_T$ thermal voltage, $\\kappa$ subthreshold slope factor). DPI circuit can be tuned by adjusting the time constant, $I_{\\tau}$, and the gain factor by $I_{g}$. Hence DPI is simply a current-mode low pass filter with adjustable gain and time-constant. This will be the building block of silicon neurons and synapses.\n",
    "\n",
    "#### Silicon Neuron\n",
    "\n",
    "<img src=\"img/neuron.png\" alt=\"Neuron circuit.\" style=\"width: 400px;\">\n",
    "\n",
    "The above schematic shows the neuron circuit implementing Adaptive Exponential Integrate & Fire (AdEx) on Dynap-SE1. AdEx neurons are introduced by [Brette and Gerstner, 2005](https://www.readcube.com/library/a457847f-fdff-4d66-a32a-b3830a010b34:72216f6a-1527-440d-b775-be66fa7085a1) that capable of describing known neuronal firing patterns, e.g., adapting, bursting, delayed spike initiation, initial bursting, fast-spiking, and regular spiking. We will not go into detail of circuit analysis but describe the functional blocks. The yellow block is the input DPI circuit modeling neuron's leak conductance. The green block implements an additional low-pass ﬁlter that integrates the spikes and produces a slow current $I_{ahp}$ responsible for spike-frequency adaptation. The red block is a spike event generation amplifier implementing current-based positive feedback (modeling both $Na^{+}$ activation and inactivation conductances) and produces address-events at extremely low-power operation. Lastly, the blue block resets the neuron and keeps it in a resting state for a refractory period, set by the $V_{ref}$ bias voltage. Under some assumptions, the response dynamics of neuron block is:\n",
    "\n",
    "$$\\tau \\frac{d}{d t} I_{m e m}+I_{m e m} \\approx I_{i n}-I_{a h p}+f\\left(I_{m e m}\\right)$$\n",
    "$$\\tau_{a h p} \\frac{d}{d t} I_{a h p}+I_{a h p} \\approx I_{a h p} \\delta\\left(t_{s p i k e}\\right)$$\n",
    "\n",
    "\n",
    "Here, $I_{m e m}$ is the sub-threshold current that represents the real neuron's membrane potential variable, $I_{i n}$ is the input current that enters the neuron, $I_{a h p}$ characterizes the spike adaptation effect, $\\tau$ is the time-constant of leakage current. $f(x)$ is an exponential function with positive exponent which characterizes the passive properties, i.e. $f(x) = \\alpha e^{ \\beta x - \\gamma} + \\delta$.\n",
    "\n",
    "#### Silicon Synapse\n",
    "\n",
    "\n",
    "<img src=\"img/synapse.png\" alt=\"Synapse circuit.\" style=\"width: 400px;\">\n",
    "\n",
    "Lastly, the above schematic shows a typical silicon synapse circuit implemented on Dynap-SE1. The green block implements short-term depression (STD). The yellow block implements basic DPI dynamics and can be tuned to implement short-term facilitation (STF). The red block implements NMDA voltage-gated channels, and the blue block implements conductance-based voltage dependence. The simplified version of the response dynamics of the synaptic block is:\n",
    "\n",
    "$$\\tau \\frac{d}{d t} I_{s y n}(t)+I_{s y n}(t)=I_{w} \\delta\\left(t_{p r e}\\right)$$\n",
    "where $I_{s y n}$ is the synaptic current, $I_{w}$ is the gain factor (weight) of the synapse, and $\\tau$ is time constant of current decay.\n",
    "\n",
    "For more detailed explanations of neural and synaptic circuits (and especially the derivations and the assumptions behind the formulas mentioned) you can check [PDF available on arXiv.](https://arxiv.org/pdf/1403.6428.pdf)\n",
    "\n",
    ">Chicca, E., Stefanini, F., Bartolozzi, C., Indiveri, G. (2014). Neuromorphic Electronic Circuits for Building Autonomous Cognitive Systems Proceedings of the IEEE  102(9), 1367-1388.\n",
    "\n",
    "### Setting up the network\n",
    "\n",
    "We will use [Brian2](https://brian2.readthedocs.io/en/stable/) to implement our spiking neural network. There are other options available (NEST, PyTorch, etc.), but Brian2 is both fast and flexible when working with spikes. More importantly, our group has already modeled the neural and synaptic circuits that Dynap-SE1 uses on Brian2. Therefore as we will execute spiking neural networks on Brian2, we will be simulating the circuits of Dynap-SE1. Super cool :)\n",
    "\n",
    "So, let's start with importing Brian2."
   ]
  },
  {
   "cell_type": "code",
   "execution_count": null,
   "metadata": {},
   "outputs": [],
   "source": [
    "from brian2 import *"
   ]
  },
  {
   "cell_type": "markdown",
   "metadata": {},
   "source": [
    "Brian2 allows us to write models for neuron and synapses,  create large populations of neurons, and connect them arbitrarily. On the other hand, the real chip has predefined resources, and circuits are fixed. There is no time-multiplexing of resources. Hence for this session, we created a simple `DynapSE.py` wrapper class that implements DPI neuron and synaptic circuit models and  monitors chip resources (e.g., number of available neurons per core, number of synapses between neurons, etc.)"
   ]
  },
  {
   "cell_type": "code",
   "execution_count": null,
   "metadata": {},
   "outputs": [],
   "source": [
    "from DynapSE import DynapSE"
   ]
  },
  {
   "cell_type": "markdown",
   "metadata": {},
   "source": [
    "We then import dynamical array processing (Numpy) and plotting (Matplotlib) libraries."
   ]
  },
  {
   "cell_type": "code",
   "execution_count": null,
   "metadata": {},
   "outputs": [],
   "source": [
    "import numpy as np\n",
    "import matplotlib as mpl\n",
    "import matplotlib.pyplot as plt\n",
    "\n",
    "# Display plots inside Jupyter cell\n",
    "%matplotlib inline \n",
    "# Set the dots-per-inch (resolution) of the images\n",
    "mpl.rcParams['figure.dpi'] = 90  "
   ]
  },
  {
   "cell_type": "markdown",
   "metadata": {},
   "source": [
    "The ordinary differential equations defining neuron and synapse models should be accessible by Brian2. Let's import the model equations and their parameters."
   ]
  },
  {
   "cell_type": "code",
   "execution_count": null,
   "metadata": {},
   "outputs": [],
   "source": [
    "from equations.dynapse_eq import *\n",
    "from parameters.dynapse_param import *\n",
    "\n",
    "# C++ code generation for faster spiking network simulation\n",
    "set_device('cpp_standalone')\n",
    "# Ignore Brian2 base warnings\n",
    "BrianLogger.suppress_name('base')\n",
    "# The clock of Brian2 simulation for numerically solve ODEs\n",
    "defaultclock.dt = 20 * us"
   ]
  },
  {
   "cell_type": "markdown",
   "metadata": {},
   "source": [
    "### Generating Input Spike Pattern\n",
    "\n",
    "The language of neuromorphic chips is spike trains. Whether we want to process the analog or digital signal, we need to convert it to spikes first. Inside Dynap-SE1, we have such converters, following a single protocol: AER (Address-Event Representation). AER uses (spike source address, timing) pair to define a single spike. In this exercise, we will not use AER but the Dirac delta function $\\rho(t)=\\sum_{i=1}^{k} \\delta\\left(t-t_{i}\\right)$ to define spike trains. \n",
    "\n",
    "In the cell below, you will see three different spike train implementations \n",
    "`regular`, `poisson`, and `cosine`. You can change the variables in the TODO section (optional) and customize your input pattern."
   ]
  },
  {
   "cell_type": "code",
   "execution_count": null,
   "metadata": {},
   "outputs": [],
   "source": [
    "# Input Generator\n",
    "##################\n",
    "# TODO: \n",
    "# - Play with different input spike patterns by changing input_type (optional).\n",
    "#\n",
    "# Parameters\n",
    "input_type   = 'poisson' # 'regular', 'poisson' or 'cosine' (Default: poisson)\n",
    "pulse_start  = 0         # second - Start time of input (Default: 0)\n",
    "pulse_stop   = 5         # second - Stop time of input (Default: 5)\n",
    "inp_duration = 5         # second - Simulation duration (Default: 5)\n",
    "rate         = 100       # Hz or rad/sec - Spiking rate (Default: 80 Hz for regular, 100 Hz for poission, 2 rad/sec for cosine) \n",
    "##################\n",
    "\n",
    "if input_type == 'regular':\n",
    "    \n",
    "    spikes = np.zeros(inp_duration*1000)\n",
    "    dt = int(1000/rate)\n",
    "    spikes[pulse_start*1000:pulse_stop*1000:dt] = 1.0\n",
    "\n",
    "if input_type == 'poisson':\n",
    "\n",
    "    prob = rate * 1e-3\n",
    "    mask = np.random.rand(inp_duration*1000)\n",
    "    spikes = np.zeros(inp_duration*1000)\n",
    "    spikes[mask < prob] = 1.0\n",
    "    spikes[:pulse_start*1000]=0\n",
    "    spikes[pulse_stop*1000:]=0\n",
    "\n",
    "if input_type == 'cosine':\n",
    "    \n",
    "    spikes = np.zeros(inp_duration*1000)\n",
    "    time = np.linspace(0, inp_duration, inp_duration*1000)\n",
    "    co = np.cos(2 * np.pi * rate * time)\n",
    "    mask = 20 * np.random.rand(inp_duration*1000)\n",
    "    spikes[mask < co] = 1.0\n",
    "    spikes[:pulse_start*1000]=0\n",
    "    spikes[pulse_stop*1000:]=0\n",
    "\n",
    "plt.plot(spikes,'k|')\n",
    "plt.xlabel(\"Time (ms)\")\n",
    "plt.ylabel(\"Neuron ID\")\n",
    "plt.ylim(0.5, 1.5)\n",
    "plt.show()"
   ]
  },
  {
   "cell_type": "markdown",
   "metadata": {},
   "source": [
    "Now that we have an input spike pattern, we need to tell Brian2 to use the spikes we just generated. To do that, we define two arrays specifying spike indices (ID of spike source) and the spike timing. The sizes of two arrays match since Brian2 will check both and assign spike timings to spike sources. We will have single source ID because we generated only one spike pattern."
   ]
  },
  {
   "cell_type": "code",
   "execution_count": null,
   "metadata": {},
   "outputs": [],
   "source": [
    "# Reinitialize the device\n",
    "device.reinit()\n",
    "device.activate()\n",
    "defaultclock.dt = 20 * us\n",
    "\n",
    "spike_timing = np.where(spikes==1)[0] * ms # Timing of spikes\n",
    "neuron_indices = np.zeros(len(spike_timing)) # ID of spike sources\n",
    "input_spike_generator = SpikeGeneratorGroup(1, indices=neuron_indices, times=spike_timing, name='InpSpikeGenerator')    "
   ]
  },
  {
   "cell_type": "markdown",
   "metadata": {},
   "source": [
    "### Creating a Network \n",
    "\n",
    "To create a spiking neural network on Brian2, there are three pillars we need to understand. Brian2 requires the `Network()` instance, which handles the running of the simulation.  It contains a set of Brian objects (e.g., neurons, synapses, monitors, etc.) added with `add()` function. The final `run()` method runs the simulation. \n",
    "\n",
    "After creating a `network` instance, we will pass it to the `DynapSE()` method to create a  new `chip` instance. Creating a spiking neural network and passing it to a neuromorphic chip class may seem peculiar. However, this will allow us to make sure that the chip can support the Brian2 network.\n"
   ]
  },
  {
   "cell_type": "code",
   "execution_count": null,
   "metadata": {},
   "outputs": [],
   "source": [
    "network = Network() # Instantiate a Brian2 Network\n",
    "chip = DynapSE(network) # Instantiate a Dynap-SE1 chip implementing neural and synaptic silicon dynamics"
   ]
  },
  {
   "cell_type": "markdown",
   "metadata": {},
   "source": [
    "\n",
    "Now let's look at the inside of the Dynap-SE1 chip. Inside, there are four event-based, mixed-signal neuromorphic cores; each one has 256 DPI neurons. Each neuron is identical to the others by design; however, it may have slightly different parameters due to the noise and mismatch in analog circuits. In the simulation, you can allocate `num_n` neurons from a core `X` by using `get_neurons(num_n, 'Core_X')` method, which returns a [SubGroup](https://brian2.readthedocs.io/en/stable/reference/brian2.groups.subgroup.Subgroup.html) of DPI neurons.\n",
    "\n",
    "An individual neuron can have a fan-in of 64 and a fan-out of 4k connections. Users can determine the types of the synapses to exhibit one of 4 different behaviors: fast excitatory (AMPA), slow excitatory (NMDA), subtractive inhibitory (GABA_B), or shunting inhibitory (GABA_A, a mixture of subtractive and divisive).  User can connect different neurons (which are obtained with `get_neurons()`) to each other using `add_connection(pre_population, post_population, synapse_type)` method. Synapse type can be either `AMPA`, `NMDA`, `GABA_A` and `GABA_B`.\n",
    "\n",
    "\n",
    "Now, let's allocate a single neuron from the first core of Dynap-SE1, then define NMDA- and AMPA- type synaptic connections to our custom `input_spike_generator`."
   ]
  },
  {
   "cell_type": "code",
   "execution_count": null,
   "metadata": {},
   "outputs": [],
   "source": [
    "DPI_neuron  = chip.get_neurons(1, 'Core_1') # Allocate single DPI neuron from Core 1\n",
    "DPI_NMDA_synapse = chip.add_connection(input_spike_generator, DPI_neuron, synapse_type='NMDA') # Define a slow excitatory synapse\n",
    "DPI_AMPA_synapse = chip.add_connection(input_spike_generator, DPI_neuron, synapse_type='AMPA') # Define a fast excitatory synapse\n",
    "\n",
    "# In Brian2 creating Synapses instance does not connect two endpoints, it only specifies synaptic dynamics \n",
    "# Let's connect two endpoints and set an initial weight of 300.\n",
    "\n",
    "chip.connect(DPI_NMDA_synapse, True)\n",
    "DPI_NMDA_synapse.weight = 300\n",
    "\n",
    "chip.connect(DPI_AMPA_synapse, True)\n",
    "DPI_AMPA_synapse.weight = 300"
   ]
  },
  {
   "cell_type": "markdown",
   "metadata": {},
   "source": [
    "Until now, we created a spike generator, allocated a neuron from the chip, and formed two synaptic connections (fast and slow) between. Before starting the simulation, we can add [monitors](https://brian2.readthedocs.io/en/stable/reference/brian2.monitors.html) \n",
    "for simulation variables that evolve during the simulation. This is one of the best parts of having a simulation of complex systems; we can monitor everything. What do we want to monitor?\n",
    "\n",
    "- Spikes from input spike generator\n",
    "- Output current of 1) fast excitatory 2) slow excitatory synapses \n",
    "- Neuron membrane current\n",
    "- Output activity of DPI neuron \n",
    "\n",
    "PS: If you are curious about where `I_syn_nmda`, `I_syn_ampa` and `Imem` variables come from, you should check `dynapse_eq.py` where we define DPI dynamics of neurons and synapses."
   ]
  },
  {
   "cell_type": "code",
   "execution_count": null,
   "metadata": {},
   "outputs": [],
   "source": [
    "# Monitors\n",
    "mon_neuron_input  = SpikeMonitor(input_spike_generator, name='mon_neuron_input')\n",
    "mon_synapse_nmda  = StateMonitor(DPI_NMDA_synapse, 'I_syn_nmda', record=[0])\n",
    "mon_synapse_ampa  = StateMonitor(DPI_AMPA_synapse, 'I_syn_ampa', record=[0])\n",
    "mon_neuron_state  = StateMonitor(DPI_neuron, 'Imem', record=True)\n",
    "mon_neuron_output = SpikeMonitor(DPI_neuron, name='mon_neuron_output')\n",
    "\n",
    "# Add every instance we created to Brian network, so it will include them in the simulation\n",
    "network.add([input_spike_generator, DPI_neuron, DPI_NMDA_synapse, DPI_AMPA_synapse, mon_neuron_input, mon_synapse_nmda, mon_synapse_ampa, mon_neuron_output, mon_neuron_state])"
   ]
  },
  {
   "cell_type": "markdown",
   "metadata": {},
   "source": [
    "Now, let's run the simulation for a predefined time. Depending on your computer's CPU, it may take a while (< 15 sec with 2015 MacBook Pro)."
   ]
  },
  {
   "cell_type": "code",
   "execution_count": null,
   "metadata": {},
   "outputs": [],
   "source": [
    "# Simulation\n",
    "network.run(inp_duration * 1000 * ms)"
   ]
  },
  {
   "cell_type": "markdown",
   "metadata": {},
   "source": [
    "After the simulation is completed, we can see how the variables that we monitored evolved. Let's plot input spikes, membrane voltage, and output spikes to understand the neuron's response. "
   ]
  },
  {
   "cell_type": "code",
   "execution_count": null,
   "metadata": {},
   "outputs": [],
   "source": [
    "plt.figure(figsize=(16,5),dpi=150)\n",
    "plt.subplots_adjust(hspace=2)\n",
    "\n",
    "# Input Spikes \n",
    "plt.subplot(311)\n",
    "spike_placeholder = np.zeros(5000)\n",
    "spike_placeholder[np.array(mon_neuron_input.t/ms, dtype=int)]=1\n",
    "plt.plot(spike_placeholder,'k|')\n",
    "matplotlib.pyplot.yticks(range(1, 3))\n",
    "plt.ylim(0.5, 1.5)\n",
    "plt.title('Input Spikes')\n",
    "plt.ylabel('Neuron ID')\n",
    "#plt.xlabel('Time (ms)')\n",
    "\n",
    "plt.subplot(312)\n",
    "Imem = mon_neuron_state.Imem[0]\n",
    "plt.plot(mon_neuron_state.t/ms, Imem)\n",
    "\n",
    "plt.title('Neuron Membrane Current')\n",
    "plt.ylabel('Current (A)')\n",
    "#plt.xlabel('Time (ms)')\n",
    "\n",
    "plt.subplot(313)\n",
    "spike_placeholder = np.zeros(5000)\n",
    "spike_placeholder[np.array(mon_neuron_output.t/ms, dtype=int)]=2\n",
    "plt.plot(spike_placeholder,'k|')\n",
    "matplotlib.pyplot.yticks(range(1, 3))\n",
    "plt.ylim(1.5, 2.5)\n",
    "plt.title('Neuron Output Spikes')\n",
    "plt.ylabel('Neuron ID')\n",
    "plt.xlabel('Time (ms)')\n",
    "plt.show()"
   ]
  },
  {
   "cell_type": "markdown",
   "metadata": {},
   "source": [
    "We provided an input spike train to a DPI neuron then observed some output spikes (If input spike parameters are correct). Now, we monitor the output current of DPI synapse that enters to neuron."
   ]
  },
  {
   "cell_type": "code",
   "execution_count": null,
   "metadata": {},
   "outputs": [],
   "source": [
    "##################\n",
    "#  TODO: Play with tstart and tend to locate synaptic currents. Try to estimate the time constant of the decay. \n",
    "#  Why do you think the amount of current at each input spike are not exactly same?\n",
    "#\n",
    "# Parameters\n",
    "tstart = 800 # ms \n",
    "tend   = 850 # ms\n",
    "##################\n",
    "\n",
    "# Plotting\n",
    "fig, (ax1, ax2) = plt.subplots(1, 2,figsize=(10,4))\n",
    "fig.suptitle('Synaptic Currents')\n",
    "s = int(1*ms / defaultclock.dt)\n",
    "\n",
    "ax1.plot(mon_neuron_state.t[tstart*s:tend*s]/ms, mon_synapse_ampa.I_syn_ampa[0][tstart*s:tend*s], linewidth=1.5)\n",
    "ax1.legend(['AMPA'])\n",
    "ax1.set_ylabel('Current (A)')\n",
    "ax1.set_xlabel('Time (ms)')\n",
    "ax1.grid(True)\n",
    "ax2.plot(mon_neuron_state.t[tstart*s:tend*s]/ms, mon_synapse_nmda.I_syn_nmda[0][tstart*s:tend*s], linewidth=1.5)\n",
    "ax2.legend(['NMDA'])\n",
    "ax2.set_xlabel('Time (ms)')\n",
    "ax2.grid(True)"
   ]
  },
  {
   "cell_type": "markdown",
   "metadata": {},
   "source": [
    "Finally, we can observe the membrane current ($I_{mem}$) on silicon neuron and see how synaptic input accumulates and results in spikes."
   ]
  },
  {
   "cell_type": "code",
   "execution_count": null,
   "metadata": {},
   "outputs": [],
   "source": [
    "##################\n",
    "#  TODO: Play with tstart and tend to observe membrane current fluctuations and the moments of spike output.\n",
    "#        Notice that the membrane current is more smoother than its synaptic input.\n",
    "#\n",
    "# Parameters\n",
    "tstart = 800 # ms  \n",
    "tend   = 1000 # ms \n",
    "##################\n",
    "\n",
    "# Plotting\n",
    "s = int(1*ms / defaultclock.dt)\n",
    "plt.figure(figsize=(4,2),dpi=150)\n",
    "plt.plot(mon_neuron_state.t[tstart*s:tend*s]/ms, mon_neuron_state.Imem[0][tstart*s:tend*s], linewidth=1.5)\n",
    "plt.hlines(y=dynapse_param['Ispkthr']*1e-9/nA, xmin=tstart, xmax=tend, color='r', linestyles='-.')\n",
    "plt.legend(['$I_{mem}$', '$I_{thr}$'])\n",
    "plt.title('Neuron Membrane Current')\n",
    "plt.ylabel('Current (A)')\n",
    "plt.xlabel('Time (ms)')\n",
    "plt.grid(True)"
   ]
  },
  {
   "cell_type": "markdown",
   "metadata": {},
   "source": [
    "This is the end of Part 1."
   ]
  }
 ],
 "metadata": {
  "kernelspec": {
   "display_name": "Python 3",
   "language": "python",
   "name": "python3"
  },
  "language_info": {
   "codemirror_mode": {
    "name": "ipython",
    "version": 3
   },
   "file_extension": ".py",
   "mimetype": "text/x-python",
   "name": "python",
   "nbconvert_exporter": "python",
   "pygments_lexer": "ipython3",
   "version": "3.8.5"
  }
 },
 "nbformat": 4,
 "nbformat_minor": 4
}