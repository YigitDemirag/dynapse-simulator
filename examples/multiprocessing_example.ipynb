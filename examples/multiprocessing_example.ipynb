{
 "cells": [
  {
   "cell_type": "code",
   "execution_count": 1,
   "metadata": {},
   "outputs": [],
   "source": [
    "from brian2 import *\n",
    "\n",
    "import multiprocessing_example_experiment\n",
    "\n",
    "import pandas as pd\n",
    "import itertools\n",
    "import pathos as pa\n",
    "import multiprocessing as mp\n",
    "# multithreading can be also used by using the Pool \n",
    "# function instead of mp.Pool and commenting the above mp import\n",
    "from multiprocessing.pool import ThreadPool as Pool \n"
   ]
  },
  {
   "cell_type": "code",
   "execution_count": 2,
   "metadata": {},
   "outputs": [],
   "source": [
    "now = datetime.datetime.now() # current date and time\n",
    "date_time = now.strftime(\"%m_%d_%Y_%H_%M_%S\")\n",
    "results = []\n",
    "df_results = pd.DataFrame()"
   ]
  },
  {
   "cell_type": "code",
   "execution_count": 3,
   "metadata": {},
   "outputs": [],
   "source": [
    "exp_durations_range = [100*ms]"
   ]
  },
  {
   "cell_type": "code",
   "execution_count": 4,
   "metadata": {},
   "outputs": [],
   "source": [
    "def main():\n",
    "\tgrid = dict(\n",
    "\t\t_exp_duration_range_ = exp_durations_range,\n",
    "\t)\n",
    "\tconfigs = []\n",
    "\n",
    "\tfor values in itertools.product(*grid.values()): \n",
    "\t\t\n",
    "\t\ttemporary_dict = dict(zip(grid.keys(), values))\n",
    "\n",
    "\t\tconfig = dict(\n",
    "\t\t\t_exp_duration_ = temporary_dict['_exp_duration_range_'],\n",
    "\t\t)\n",
    "\t\tconfigs.append(config)\n",
    "\n",
    "\tpool = mp.Pool((pa.helpers.cpu_count() - 1))\n",
    "\tresults = pool.map(multiprocessing_example_experiment.run_experiment, configs)\n",
    "\t\n",
    "\treturn results"
   ]
  },
  {
   "cell_type": "code",
   "execution_count": 5,
   "metadata": {},
   "outputs": [
    {
     "name": "stdout",
     "output_type": "stream",
     "text": [
      "Process 12987 launched, at 05_31_2022_20_06_49\n",
      "1 neurons are allocated from Core_1.\n"
     ]
    }
   ],
   "source": [
    "if __name__ == '__main__':\n",
    "    train_results = main()"
   ]
  }
 ],
 "metadata": {
  "interpreter": {
   "hash": "93f4c088e025e29d17e6d5df39601364ee0a461707d661bf23dc0165d757d8f4"
  },
  "kernelspec": {
   "display_name": "Python 3.8.13 ('dynapse_sim')",
   "language": "python",
   "name": "python3"
  },
  "language_info": {
   "codemirror_mode": {
    "name": "ipython",
    "version": 3
   },
   "file_extension": ".py",
   "mimetype": "text/x-python",
   "name": "python",
   "nbconvert_exporter": "python",
   "pygments_lexer": "ipython3",
   "version": "3.8.13"
  },
  "orig_nbformat": 4
 },
 "nbformat": 4,
 "nbformat_minor": 2
}
