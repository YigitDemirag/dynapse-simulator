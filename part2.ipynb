{
 "cells": [
  {
   "cell_type": "markdown",
   "metadata": {},
   "source": [
    "### Part 2: Calculating the F-F curve of DPI neurons\n",
    "\n",
    "In the second part, we will calculate the F-F curve of silicon neurons. In neuroscience, the F-F curve is a function that relates to the input firing rate and the output firing rate of a neuron. Because the F-F curve only specifies the firing rate rather than exact spike times, it is a concept suited to the rate coding rather than the temporal coding model of neuronal computation. To obtain the F-F curve, we will simulate silicon neurons with a range of spike frequencies and observe the output behavior."
   ]
  },
  {
   "cell_type": "code",
   "execution_count": 1,
   "metadata": {},
   "outputs": [],
   "source": [
    "from brian2 import *\n",
    "from DynapSE import DynapSE\n",
    "from equations.dynapse_eq import *\n",
    "from parameters.dynapse_param import *\n",
    "import numpy as np\n",
    "import matplotlib as mpl\n",
    "import matplotlib.pyplot as plt\n",
    "\n",
    "%matplotlib inline \n",
    "mpl.rcParams['figure.dpi'] = 90  \n",
    "set_device('cpp_standalone')"
   ]
  },
  {
   "cell_type": "markdown",
   "metadata": {},
   "source": [
    "There are multiple ways to create spike trains of different frequencies and stimulate neurons. One way is to stimulate single neuron with a fixed frequency and loop over a set of frequencies. Alternatively, we can stimulate multiple neurons, each with unique frequency in parallel. The latter is more compute-efficient on Brian2, and this is what we are going to implement."
   ]
  },
  {
   "cell_type": "code",
   "execution_count": 2,
   "metadata": {},
   "outputs": [],
   "source": [
    "## Calculating the F-F curve of DPI neurons\n",
    "##################\n",
    "# TODO: \n",
    "# - Play with frequency range and the simulation duration\n",
    "# \n",
    "# Parameters\n",
    "inp_duration   = 5     # second - Simulation duration (default: 5)\n",
    "freq_start     = 0     # Hz - Starting frequency (Neuron 0 will be stimulated with this Poisson rate) (default: 0)\n",
    "freq_stop      = 200   # Hz - Stop frequency (The last neuron will be stimulated with this Poisson rate) (default: 200)\n",
    "##################\n",
    "\n",
    "device.reinit()\n",
    "device.activate()\n",
    "defaultclock.dt = 20 * us\n",
    "# Ignore Brian2 base warnings\n",
    "BrianLogger.suppress_name('base')\n",
    "\n",
    "# Create a Brian2 network and chip instance using that monitors Dynap-SE1 resources.\n",
    "network = Network()\n",
    "chip = DynapSE(network)"
   ]
  },
  {
   "cell_type": "markdown",
   "metadata": {},
   "source": [
    "To simulate neurons, we will use Poisson spikes. For stimulating $N$ neurons, we require $N$ different Poisson rates. To achieve that, we create a matrix with dimensions [simulation time steps, source ID], where the source ID represents the firing rate, e.g., source 5 will fire at 5 Hz, source 20 at 20 Hz, etc.\n",
    "\n",
    "Then we will create our network on Brian2, similar to Part 1, except for one single difference. This time, we will connect single sources to single corresponding neurons (one-to-one instead of all-to-all). To achieve that, we use `DPI_synapse.connect(j='i')`."
   ]
  },
  {
   "cell_type": "code",
   "execution_count": 3,
   "metadata": {},
   "outputs": [
    {
     "name": "stdout",
     "output_type": "stream",
     "text": [
      "200 neurons are allocated from Core_1.\n"
     ]
    }
   ],
   "source": [
    "# Create [time_steps, source ID] matrix, where firing rate is defined by source ID.\n",
    "# e.g., source 5 will fire at 5 Hz.\n",
    "rates2 = np.tile(np.linspace(freq_start, freq_stop, freq_stop-freq_start), (inp_duration*1000, 1)) # shape: (inp_duration*1000, 256)\n",
    "\n",
    "# Create a TimedArray according to rate information\n",
    "spike_timing = TimedArray(rates2 * Hz , dt=1 * us) \n",
    "\n",
    "# Using spike timing function, generate a Spike Generator that creates Poisson spikes\n",
    "input_spike_generator = PoissonGroup(freq_stop-freq_start, \"spike_timing(t,i)\")\n",
    "\n",
    "# Allocate neurons such that each firing frequency will be assigned to single neuron.\n",
    "DPI_neuron  = chip.get_neurons(freq_stop-freq_start, 'Core_1')\n",
    "DPI_synapse = chip.add_connection(input_spike_generator, DPI_neuron, synapse_type='NMDA')\n",
    "\n",
    "# One-to-one (j=i) mapping, instead of all-to-all connection\n",
    "chip.connect(DPI_synapse, j='i')\n",
    "DPI_synapse.weight = 300\n",
    "\n",
    "# Monitors\n",
    "mon_neuron_input  = SpikeMonitor(input_spike_generator, name='mon_neuron_input')\n",
    "mon_neuron_output = SpikeMonitor(DPI_neuron, name='mon_neuron_output')\n",
    "network.add([input_spike_generator, DPI_neuron, DPI_synapse, mon_neuron_input, mon_neuron_output])\n",
    "\n",
    "# Simulation\n",
    "network.run(inp_duration * 1000 * ms)"
   ]
  },
  {
   "cell_type": "markdown",
   "metadata": {},
   "source": [
    "After the simulation, we can calculate each neuron's firing rate by looking at the number of spikes it generates throughout the simulation."
   ]
  },
  {
   "cell_type": "code",
   "execution_count": 4,
   "metadata": {},
   "outputs": [
    {
     "data": {
      "image/png": "[encoded data removed]",
      "text/plain": [
       "<Figure size 540x360 with 2 Axes>"
      ]
     },
     "metadata": {
      "needs_background": "light"
     },
     "output_type": "display_data"
    }
   ],
   "source": [
    "plt.subplot(121)\n",
    "plot(mon_neuron_output.count/ inp_duration * 1000 * ms,'-.') # Count number of spikes per neuron\n",
    "plt.xlabel('Input frequency (Hz)')\n",
    "plt.ylabel('Output frequency (Hz)')\n",
    "plt.title(f'DPI neuron')\n",
    "plt.grid(True)\n",
    "plt.subplot(122)\n",
    "plot(np.arange(-100,100,1),np.maximum(0,np.arange(-100,100,1)),'-.') # Implement ReLU function\n",
    "plt.xlabel('Input')\n",
    "plt.ylabel('Output')\n",
    "plt.title(f'ReLU activation function')\n",
    "plt.grid(True)\n",
    "plt.tight_layout()"
   ]
  },
  {
   "cell_type": "markdown",
   "metadata": {},
   "source": [
    "There are a few things to notice in the figure above. \n",
    "\n",
    "- Neurons did not fire until a threshold input firing rate is reached. \n",
    "- Input / Output relationship is very similar to ReLU activation function of ANNs.\n",
    "- The F-F curve looks noisy. It is because of the stochastic nature of Poisson inputs. The variance can be decreased by simulating network longer.\n",
    "- After threshold, it looks linear, but we do not expect firing rate to increaseforever. The firing rate saturates at some point.\n",
    "- Side note: In neocortex, firing rate of neurons also saturates after large input, but neurons almost always operate on the linear part of the slope."
   ]
  },
  {
   "cell_type": "code",
   "execution_count": 5,
   "metadata": {},
   "outputs": [],
   "source": [
    "## Calculating the FF curve of DPI\n",
    "##################\n",
    "# TODO: \n",
    "# - Change the parameters to observe the saturation of FF-curve. (It may depend on various factors)\n",
    "# \n",
    "#\n",
    "#\n",
    "##################"
   ]
  },
  {
   "cell_type": "markdown",
   "metadata": {},
   "source": [
    "The slope of a neuron's F-F curve depends on many factors including the time constant of its input synapses and their synaptic efficacies. In the cell below, we compared F-F curves of DPI neurons with `AMPA` and `NMDA` synapses with three different weight strengths."
   ]
  },
  {
   "cell_type": "code",
   "execution_count": 6,
   "metadata": {},
   "outputs": [
    {
     "name": "stdout",
     "output_type": "stream",
     "text": [
      "200 neurons are allocated from Core_0.\n",
      "200 neurons are allocated from Core_1.\n",
      "200 neurons are allocated from Core_2.\n"
     ]
    },
    {
     "name": "stderr",
     "output_type": "stream",
     "text": [
      "INFO       Overwriting environment variable \"DYLD_LIBRARY_PATH\" [brian2.devices.cpp_standalone.device.overwritten_env_var]\n"
     ]
    },
    {
     "name": "stdout",
     "output_type": "stream",
     "text": [
      "Reseting the chip settings ...\n",
      "200 neurons are allocated from Core_0.\n",
      "200 neurons are allocated from Core_1.\n",
      "200 neurons are allocated from Core_2.\n",
      "Reseting the chip settings ...\n"
     ]
    }
   ],
   "source": [
    "syn_type_list   = ['AMPA', 'NMDA']\n",
    "syn_weight_list = [300, 400, 500]\n",
    "\n",
    "spike_counts = np.zeros((6,200))\n",
    "for ix, synapse_type in enumerate(syn_type_list):\n",
    "    # Reinitialize the device\n",
    "    device.reinit()\n",
    "    device.activate()\n",
    "    defaultclock.dt = 20 * us\n",
    "\n",
    "    # Create a DynapSE instance\n",
    "    network = Network()\n",
    "    chip = DynapSE(network)\n",
    "\n",
    "    # New input generator\n",
    "    rates3 = np.tile(np.linspace(freq_start, freq_stop, freq_stop-freq_start), (5*1000, 1)) # shape: (inp_duration*1000, 256)\n",
    "    spike_timing = TimedArray(rates3 * Hz , dt=1 * us) \n",
    "    input_spike_generator = PoissonGroup(freq_stop-freq_start, \"spike_timing(t,i)\")\n",
    "    \n",
    "    # 200 neurons from Core 0\n",
    "    neurons_0  =  chip.get_neurons(freq_stop-freq_start, 'Core_0')\n",
    "    synapses_0 =  chip.add_connection(input_spike_generator, neurons_0, synapse_type=synapse_type)\n",
    "    chip.connect(synapses_0, j='i')\n",
    "    synapses_0.weight = syn_weight_list[0]\n",
    "    mon_neuron_output_0 = SpikeMonitor(neurons_0, name='mon_neuron_output_0')\n",
    "    \n",
    "    # 200 neurons from Core 1\n",
    "    neurons_1  =  chip.get_neurons(freq_stop-freq_start, 'Core_1')\n",
    "    synapses_1 =  chip.add_connection(input_spike_generator, neurons_1, synapse_type=synapse_type)\n",
    "    chip.connect(synapses_1, j='i')\n",
    "    synapses_1.weight = syn_weight_list[1]\n",
    "    mon_neuron_output_1 = SpikeMonitor(neurons_1, name='mon_neuron_output_1')\n",
    "    \n",
    "    # 200 neurons from Core 2\n",
    "    neurons_2  =  chip.get_neurons(freq_stop-freq_start, 'Core_2')\n",
    "    synapses_2 =  chip.add_connection(input_spike_generator, neurons_2, synapse_type=synapse_type)\n",
    "    chip.connect(synapses_2, j='i')\n",
    "    synapses_2.weight = syn_weight_list[2]\n",
    "    mon_neuron_output_2 = SpikeMonitor(neurons_2, name='mon_neuron_output_2')\n",
    "\n",
    "    # Monitors\n",
    "    network.add([input_spike_generator, neurons_0, neurons_1, neurons_2, synapses_0, synapses_1, synapses_2, mon_neuron_output_0, mon_neuron_output_1, mon_neuron_output_2])\n",
    "\n",
    "    # Simulation\n",
    "    network.run(inp_duration * 1000 * ms)\n",
    "    \n",
    "    # Save\n",
    "    spike_counts[3*ix+0,:] = mon_neuron_output_0.count/inp_duration\n",
    "    spike_counts[3*ix+1,:] = mon_neuron_output_1.count/inp_duration\n",
    "    spike_counts[3*ix+2,:] = mon_neuron_output_2.count/inp_duration\n",
    "    print('Reseting the chip settings ...')"
   ]
  },
  {
   "cell_type": "code",
   "execution_count": 7,
   "metadata": {},
   "outputs": [
    {
     "data": {
      "image/png": "[encoded data removed]",
      "text/plain": [
       "<Figure size 540x360 with 2 Axes>"
      ]
     },
     "metadata": {
      "needs_background": "light"
     },
     "output_type": "display_data"
    }
   ],
   "source": [
    "# Plot the results\n",
    "for i in range(2):\n",
    "    plt.subplot(120+i+1)\n",
    "    plt.title(f'DPI neuron with {syn_type_list[i]} synapse')\n",
    "    for j in range(3):\n",
    "        plt.plot(spike_counts[3*i+j], label=f'W: {syn_weight_list[j]}')\n",
    "        plt.xlabel('Input (Hz)')\n",
    "        plt.ylabel('Output (Hz)')\n",
    "        plt.ylim([0,50])\n",
    "        plt.legend()\n",
    "        plt.grid()\n",
    "plt.tight_layout()"
   ]
  },
  {
   "cell_type": "markdown",
   "metadata": {},
   "source": [
    "This is the end of Part 2."
   ]
  }
 ],
 "metadata": {
  "kernelspec": {
   "display_name": "Python 3",
   "language": "python",
   "name": "python3"
  },
  "language_info": {
   "codemirror_mode": {
    "name": "ipython",
    "version": 3
   },
   "file_extension": ".py",
   "mimetype": "text/x-python",
   "name": "python",
   "nbconvert_exporter": "python",
   "pygments_lexer": "ipython3",
   "version": "3.8.12"
  }
 },
 "nbformat": 4,
 "nbformat_minor": 4
}
